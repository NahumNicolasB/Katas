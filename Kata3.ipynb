{
 "cells": [
  {
   "cell_type": "markdown",
   "metadata": {},
   "source": [
    "# Kata 3\n",
    "## if, else y elif"
   ]
  },
  {
   "cell_type": "code",
   "execution_count": 22,
   "metadata": {},
   "outputs": [
    {
     "name": "stdout",
     "output_type": "stream",
     "text": [
      "!ADVERTENCIA¡ Asteroide aproximandose a la Tierra. Velocidad actual: 49 km/s\n"
     ]
    }
   ],
   "source": [
    "velocidad_del_asteriode = 49\n",
    "\n",
    "if velocidad_del_asteriode >= 25:\n",
    "    print(\"!ADVERTENCIA¡ Asteroide aproximandose a la Tierra. Velocidad actual:\", +velocidad_del_asteriode, \"km/s\")\n",
    "else:\n",
    "    print(\"Nada nuevo por el momento\")\n"
   ]
  },
  {
   "cell_type": "code",
   "execution_count": 23,
   "metadata": {},
   "outputs": [
    {
     "name": "stdout",
     "output_type": "stream",
     "text": [
      "No hay nada por ver\n"
     ]
    }
   ],
   "source": [
    "velocidad_del_asteriode = 19\n",
    "\n",
    "if velocidad_del_asteriode > 20:\n",
    "    print(\"!ATENCIÓN¡ Luz visible en el cielo\")\n",
    "elif velocidad_del_asteriode == 20:\n",
    "    print(\"!ATENCIÓN¡ Luz visible en el cielo\")\n",
    "else:\n",
    "    print(\"No hay nada por ver\")\n"
   ]
  },
  {
   "cell_type": "markdown",
   "metadata": {},
   "source": [
    "## and y or"
   ]
  },
  {
   "cell_type": "code",
   "execution_count": 15,
   "metadata": {},
   "outputs": [
    {
     "name": "stdout",
     "output_type": "stream",
     "text": [
      "!ATENCIÓN¡ Un asteoide peligroso se acerca a la tierra\n",
      "!ATENCIÓN¡ Luz visible en el cielo\n"
     ]
    }
   ],
   "source": [
    "velocidad_del_asteriode = 25\n",
    "tamano_del_asteroide = 49\n",
    "\n",
    "if tamano_del_asteroide > 25 and velocidad_del_asteriode > 20:\n",
    "    print(\"!ATENCIÓN¡ Un asteoide peligroso se acerca a la tierra\")\n",
    "    print(\"!ATENCIÓN¡ Luz visible en el cielo\")\n",
    "elif velocidad_del_asteriode == 20:\n",
    "    if tamano_del_asteroide > 25:\n",
    "        print(\"!ATENCIÓN¡ Un asteoide peligroso se acerca a la tierra\")\n",
    "        print(\"!ATENCIÓN¡ Luz visible en el cielo\")\n",
    "    else:\n",
    "        print(\"!ATENCIÓN¡ Luz visible en el cielo\")\n",
    "elif tamano_del_asteroide > 25:\n",
    "    print(\"!ATENCIÓN¡ Un asteoide peligroso se acerca a la tierra\")\n",
    "else:\n",
    "    print(\"No hay nada por ver\")\n",
    "\n"
   ]
  }
 ],
 "metadata": {
  "interpreter": {
   "hash": "dccfa4caf6052566731ad773b933e65fbf7b8f056ac5c8e1863cfbbed8a63073"
  },
  "kernelspec": {
   "display_name": "Python 3.10.2 64-bit",
   "language": "python",
   "name": "python3"
  },
  "language_info": {
   "codemirror_mode": {
    "name": "ipython",
    "version": 3
   },
   "file_extension": ".py",
   "mimetype": "text/x-python",
   "name": "python",
   "nbconvert_exporter": "python",
   "pygments_lexer": "ipython3",
   "version": "3.10.2"
  },
  "orig_nbformat": 4
 },
 "nbformat": 4,
 "nbformat_minor": 2
}
