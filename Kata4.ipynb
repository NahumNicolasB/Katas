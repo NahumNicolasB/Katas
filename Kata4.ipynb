{
 "cells": [
  {
   "cell_type": "markdown",
   "metadata": {},
   "source": [
    "# Kata 4\n",
    "### Ejercicio 1"
   ]
  },
  {
   "cell_type": "code",
   "execution_count": null,
   "metadata": {},
   "outputs": [],
   "source": [
    "text = \"\"\"Interesting facts about the Moon. The Moon is Earth's only satellite. There are several interesting facts about the Moon and how it affects life here on Earth. \n",
    "On average, the Moon moves 4cm away from the Earth every year. This yearly drift is not significant enough to cause immediate effects on Earth. The highest daylight temperature of the Moon is 127 C.\"\"\"\n",
    "\n",
    "parts = text.split('.')\n",
    "parts\n"
   ]
  },
  {
   "cell_type": "code",
   "execution_count": null,
   "metadata": {},
   "outputs": [],
   "source": [
    "palabras = [\"average\", \"temperature\", \"distance\"]"
   ]
  },
  {
   "cell_type": "code",
   "execution_count": null,
   "metadata": {},
   "outputs": [],
   "source": [
    "for oracion in parts:\n",
    "    for palabra in palabras:\n",
    "        if palabra in oracion:\n",
    "            print(oracion)\n",
    "            break"
   ]
  },
  {
   "cell_type": "code",
   "execution_count": null,
   "metadata": {},
   "outputs": [],
   "source": [
    "for oracion in parts:\n",
    "    for palabra in palabras:\n",
    "        if palabra in oracion:\n",
    "            print(oracion.replace(' C', ' Celsius'))\n",
    "            break"
   ]
  },
  {
   "cell_type": "markdown",
   "metadata": {},
   "source": [
    "### Ejercicio 2"
   ]
  },
  {
   "cell_type": "code",
   "execution_count": 36,
   "metadata": {},
   "outputs": [
    {
     "name": "stdout",
     "output_type": "stream",
     "text": [
      "Gravity Facts About Ganímides\n",
      "-----------------------------\n",
      "Plante Name: Marte\n",
      "Gravity on Ganímides: 1.43 m/s2\n"
     ]
    }
   ],
   "source": [
    "name = \"Ganímides\"\n",
    "gravity = 0.00143 #km/s^2\n",
    "planet = \"Marte\"\n",
    "\n",
    "\n",
    "titulo = \"gravity facts about %s\" %(name)\n",
    "\n",
    "\n",
    "facts = \"\"\"-----------------------------\n",
    "Plante Name: {2}\n",
    "Gravity on {0}: {1} m/s2\"\"\"\n",
    "\n",
    "\n",
    "print(\"\"\"%s\n",
    "\"\"\" %(titulo.title()) + facts.format(name, round(gravity*1000, 2), planet))\n"
   ]
  }
 ],
 "metadata": {
  "interpreter": {
   "hash": "dccfa4caf6052566731ad773b933e65fbf7b8f056ac5c8e1863cfbbed8a63073"
  },
  "kernelspec": {
   "display_name": "Python 3.10.2 64-bit",
   "language": "python",
   "name": "python3"
  },
  "language_info": {
   "codemirror_mode": {
    "name": "ipython",
    "version": 3
   },
   "file_extension": ".py",
   "mimetype": "text/x-python",
   "name": "python",
   "nbconvert_exporter": "python",
   "pygments_lexer": "ipython3",
   "version": "3.10.2"
  },
  "orig_nbformat": 4
 },
 "nbformat": 4,
 "nbformat_minor": 2
}
