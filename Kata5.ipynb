{
 "cells": [
  {
   "cell_type": "markdown",
   "metadata": {},
   "source": [
    "## Kata 5\n",
    "### Ejercicio 1\n",
    "Operadores aritméticos"
   ]
  },
  {
   "cell_type": "code",
   "execution_count": 14,
   "metadata": {},
   "outputs": [
    {
     "name": "stdout",
     "output_type": "stream",
     "text": [
      "La distancia entre la Tierra y Júpiter en kilometros es: 628949330\n",
      "La distancia entre la Tierra y Júpiter en millas es: 390577534\n"
     ]
    }
   ],
   "source": [
    "tierra = 149597870   #km\n",
    "jupiter = 778547200  #km\n",
    "\n",
    "distancia_km = jupiter-tierra\n",
    "distancia_millas = distancia_km*0.621\n",
    "\n",
    "print(\"La distancia entre la Tierra y Júpiter en kilometros es:\",abs(distancia_km))\n",
    "print(\"La distancia entre la Tierra y Júpiter en millas es:\",round(distancia_millas))\n"
   ]
  },
  {
   "cell_type": "markdown",
   "metadata": {},
   "source": [
    "### Ejercicio 2\n",
    "Convierte cadenas en números y usa valores absolutos"
   ]
  },
  {
   "cell_type": "code",
   "execution_count": 17,
   "metadata": {},
   "outputs": [
    {
     "name": "stdout",
     "output_type": "stream",
     "text": [
      "La distancia entre ambos planetas en kilómetros es: 628949330\n",
      "La distancia entre ambos planetas en millas es: 390577534\n"
     ]
    }
   ],
   "source": [
    "d1 = input(\"Ingrese la primer distancia: \")\n",
    "d2 = input(\"Ingrese la segunda distancia: \")\n",
    "\n",
    "d_km = int(d1)-int(d2)\n",
    "d_millas = d_km*0.621\n",
    "\n",
    "print(\"La distancia entre ambos planetas en kilómetros es:\",abs(d_km))\n",
    "print(\"La distancia entre ambos planetas en millas es:\",round(abs(d_millas)))\n"
   ]
  }
 ],
 "metadata": {
  "interpreter": {
   "hash": "dccfa4caf6052566731ad773b933e65fbf7b8f056ac5c8e1863cfbbed8a63073"
  },
  "kernelspec": {
   "display_name": "Python 3.10.2 64-bit",
   "language": "python",
   "name": "python3"
  },
  "language_info": {
   "codemirror_mode": {
    "name": "ipython",
    "version": 3
   },
   "file_extension": ".py",
   "mimetype": "text/x-python",
   "name": "python",
   "nbconvert_exporter": "python",
   "pygments_lexer": "ipython3",
   "version": "3.10.2"
  },
  "orig_nbformat": 4
 },
 "nbformat": 4,
 "nbformat_minor": 2
}
