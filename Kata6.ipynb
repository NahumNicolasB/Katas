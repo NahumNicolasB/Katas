{
 "cells": [
  {
   "cell_type": "markdown",
   "metadata": {},
   "source": [
    "## Kata 6\n",
    "### Ejercicio 1\n",
    "Creación y uso de listas de Python"
   ]
  },
  {
   "cell_type": "code",
   "execution_count": 12,
   "metadata": {},
   "outputs": [
    {
     "name": "stdout",
     "output_type": "stream",
     "text": [
      "No. de planetas: 8\n",
      "No. de planetas actualizado: 9\n"
     ]
    }
   ],
   "source": [
    "planets = ['Mercurio', 'Venus', 'Tierra', 'Marte', 'Jupiter', 'Saturno', 'Urano', 'Neptuno']\n",
    "no_planets = len(planets)\n",
    "print('No. de planetas:',no_planets)\n",
    "\n",
    "planets.append('Pluton')\n",
    "no_planets_actual = len(planets)\n",
    "print('No. de planetas actualizado:',no_planets_actual)\n"
   ]
  },
  {
   "cell_type": "markdown",
   "metadata": {},
   "source": [
    "### Ejercicio 2\n",
    "Datos de una lista"
   ]
  },
  {
   "cell_type": "code",
   "execution_count": 16,
   "metadata": {},
   "outputs": [
    {
     "name": "stdout",
     "output_type": "stream",
     "text": [
      "Tierra ocupa el lugra número 3 desde el sol\n",
      "\n",
      "Los planetas que están más cerca del sol que Tierra son:\n",
      "['Mercurio', 'Venus'] \n",
      "\n",
      "Los planetas que están más lejos del sol que Tierra son:\n",
      "['Marte', 'Jupiter', 'Saturno', 'Urano', 'Neptuno']\n"
     ]
    }
   ],
   "source": [
    "planetas = ['Mercurio', 'Venus', 'Tierra', 'Marte', 'Jupiter', 'Saturno', 'Urano', 'Neptuno']\n",
    "p = input(\"Ingrese el nombre del planeta. Siendo la primer letra del nombre en mayuscula y sin acentos: \")\n",
    "\n",
    "p_index = planetas.index(p)\n",
    "print(p,'ocupa el lugra número', p_index + 1, 'desde el sol\\n')\n",
    "\n",
    "pb = planetas[0:p_index]\n",
    "print('Los planetas que están más cerca del sol que',p,'son:')\n",
    "print(pb,'\\n')\n",
    "\n",
    "pa = planetas[p_index+1:]\n",
    "print('Los planetas que están más lejos del sol que',p,'son:')\n",
    "print(pa)\n"
   ]
  }
 ],
 "metadata": {
  "interpreter": {
   "hash": "dccfa4caf6052566731ad773b933e65fbf7b8f056ac5c8e1863cfbbed8a63073"
  },
  "kernelspec": {
   "display_name": "Python 3.10.2 64-bit",
   "language": "python",
   "name": "python3"
  },
  "language_info": {
   "codemirror_mode": {
    "name": "ipython",
    "version": 3
   },
   "file_extension": ".py",
   "mimetype": "text/x-python",
   "name": "python",
   "nbconvert_exporter": "python",
   "pygments_lexer": "ipython3",
   "version": "3.10.2"
  },
  "orig_nbformat": 4
 },
 "nbformat": 4,
 "nbformat_minor": 2
}
