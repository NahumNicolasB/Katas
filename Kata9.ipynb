{
 "cells": [
  {
   "cell_type": "markdown",
   "metadata": {},
   "source": [
    "## Kata 9\n",
    "### Ejercicio 1\n",
    "Uso de funciones en Python"
   ]
  },
  {
   "cell_type": "code",
   "execution_count": 7,
   "metadata": {},
   "outputs": [
    {
     "name": "stdout",
     "output_type": "stream",
     "text": [
      "El combustible promedio en la nave es: 0.0\n",
      "    \n"
     ]
    }
   ],
   "source": [
    "def combustible(t1, t2, t3):\n",
    "    return f\"\"\"El combustible promedio en la nave es: {promedio([t1, t2, t3])}\n",
    "    \"\"\"\n",
    "\n",
    "def promedio(com):\n",
    "    total = sum(com)\n",
    "    tanks = len(com)\n",
    "    return total/tanks\n",
    "\n",
    "print(combustible(0,0,0))\n"
   ]
  },
  {
   "cell_type": "markdown",
   "metadata": {},
   "source": [
    "### Ejercicio 2\n",
    "Trabajo con argumentos de palabra clave"
   ]
  },
  {
   "cell_type": "code",
   "execution_count": 14,
   "metadata": {},
   "outputs": [
    {
     "name": "stdout",
     "output_type": "stream",
     "text": [
      "\n",
      "        Destino: Luna\n",
      "        Tiempo total de viaje: 74 minutos\n",
      "        Total combustible: 500000\n",
      "\n",
      "        Cantidad de combustible en cada tanque:\n",
      "    \tTanque interno = 300000 galones\n",
      "\tTanque externo = 200000 galones\n",
      "\n"
     ]
    }
   ],
   "source": [
    "def informe(destino, *time, **tanques):\n",
    "    reporte = f\"\"\"\n",
    "        Destino: {destino}\n",
    "        Tiempo total de viaje: {sum(time)} minutos\n",
    "        Total combustible: {sum(tanques.values())}\\n\n",
    "        Cantidad de combustible en cada tanque:\n",
    "    \"\"\"\n",
    "    for nombre_tanque, galones in tanques.items():\n",
    "        reporte += f'\\tTanque {nombre_tanque} = {galones} galones\\n'\n",
    "    return reporte\n",
    "\n",
    "print(informe('Luna', 8, 11, 55, interno=300000, externo=200000))\n",
    "\n",
    "\n",
    "\n"
   ]
  }
 ],
 "metadata": {
  "interpreter": {
   "hash": "dccfa4caf6052566731ad773b933e65fbf7b8f056ac5c8e1863cfbbed8a63073"
  },
  "kernelspec": {
   "display_name": "Python 3.10.2 64-bit",
   "language": "python",
   "name": "python3"
  },
  "language_info": {
   "codemirror_mode": {
    "name": "ipython",
    "version": 3
   },
   "file_extension": ".py",
   "mimetype": "text/x-python",
   "name": "python",
   "nbconvert_exporter": "python",
   "pygments_lexer": "ipython3",
   "version": "3.10.2"
  },
  "orig_nbformat": 4
 },
 "nbformat": 4,
 "nbformat_minor": 2
}
